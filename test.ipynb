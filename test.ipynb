{
 "cells": [
  {
   "cell_type": "code",
   "execution_count": 18,
   "metadata": {},
   "outputs": [],
   "source": []
  },
  {
   "cell_type": "code",
   "execution_count": 89,
   "metadata": {},
   "outputs": [],
   "source": []
  },
  {
   "cell_type": "code",
   "execution_count": 90,
   "metadata": {},
   "outputs": [
    {
     "data": {
      "text/plain": [
       "1.0"
      ]
     },
     "execution_count": 90,
     "metadata": {},
     "output_type": "execute_result"
    }
   ],
   "source": [
    "import numpy as np\n",
    "import pylab as plt\n",
    "import random\n",
    "\n",
    "from sklearn.linear_model import LogisticRegression\n",
    "\n",
    "# Generate dummy images\n",
    "X_train, y_train = np.row_stack((np.random.rand(50, 256, 256, 3)-.5, np.random.rand(50, 256, 256, 3)+.5)), np.r_[(np.zeros(50), np.ones(50))]\n",
    "X_test, y_test= np.row_stack((np.random.rand(50, 256, 256, 3)-1, np.random.rand(50, 256, 256, 3)+1)), np.r_[(np.zeros(50), np.ones(50))]\n",
    "\n",
    "# Create Labeled and Unlabeled Pool\n",
    "U_idx, L_idx = list(range(len(X_train))), []\n",
    "buys = random.sample(U_idx, 3)\n",
    "L_idx.extend(buys)\n",
    "[U_idx.remove(b) for b in buys]\n",
    "\n",
    "# Train logistic regression model\n",
    "X_train = X_train.reshape(len(X_train), -1) # Flatten to vector so logistic regression can progress it\n",
    "X_test = X_test.reshape(len(X_train), -1) # Flatten to vector so logistic regression can progress it\n",
    "\n",
    "clf = LogisticRegression()\n",
    "clf.fit(X_train[U_idx], y_train[U_idx])\n",
    "\n",
    "clf.score(X_test, y_test)"
   ]
  },
  {
   "cell_type": "code",
   "execution_count": null,
   "metadata": {},
   "outputs": [],
   "source": [
    "# Dann halt iterative mit deinen generierten Daten trainieren\n"
   ]
  }
 ],
 "metadata": {
  "kernelspec": {
   "display_name": "Python 3",
   "language": "python",
   "name": "python3"
  },
  "language_info": {
   "codemirror_mode": {
    "name": "ipython",
    "version": 3
   },
   "file_extension": ".py",
   "mimetype": "text/x-python",
   "name": "python",
   "nbconvert_exporter": "python",
   "pygments_lexer": "ipython3",
   "version": "3.7.6"
  }
 },
 "nbformat": 4,
 "nbformat_minor": 4
}
